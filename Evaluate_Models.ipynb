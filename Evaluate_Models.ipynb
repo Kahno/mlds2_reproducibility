{
 "cells": [
  {
   "cell_type": "code",
   "execution_count": 1,
   "metadata": {},
   "outputs": [],
   "source": [
    "from models.afn import AFN\n",
    "from models.deepfm import DeepFM \n",
    "from models.fm import FM\n",
    "from models.lr import LR"
   ]
  },
  {
   "cell_type": "code",
   "execution_count": 2,
   "metadata": {},
   "outputs": [],
   "source": [
    "import pandas as pd\n",
    "import gc\n",
    "import tensorflow as tf\n",
    "import numpy as np"
   ]
  },
  {
   "cell_type": "code",
   "execution_count": 3,
   "metadata": {},
   "outputs": [],
   "source": [
    "BATCH_SIZE = 4096"
   ]
  },
  {
   "cell_type": "code",
   "execution_count": null,
   "metadata": {},
   "outputs": [],
   "source": [
    "\"\"\"\n",
    "Possible data strings:\n",
    "\n",
    "criteo_data\n",
    "avazu_data\n",
    "frappe_data\n",
    "movielens_data\n",
    "\"\"\"\n",
    "\n",
    "#data_string = \"criteo_data\"\n",
    "data_string = \"avazu_data\"\n",
    "#data_string = \"frappe_data\"\n",
    "#data_string = \"movielens_data\"\n",
    "\n",
    "df = pd.read_csv(f\"{data_string}/train_0.csv\")\n",
    "feats = [c for c in df.columns if c != \"click\"]\n",
    "del df\n",
    "gc.collect()\n",
    "\n",
    "print(f\"Current data directory is: {data_string}\")"
   ]
  },
  {
   "cell_type": "code",
   "execution_count": null,
   "metadata": {},
   "outputs": [],
   "source": [
    "gc.collect()\n",
    "tf.keras.backend.clear_session()\n",
    "tf.compat.v1.reset_default_graph()\n",
    "\n",
    "models = []\n",
    "\n",
    "# BASELINES\n",
    "models.append(LR(num_feats=len(feats), num_bins=5500))\n",
    "models.append(FM(num_feats=len(feats), num_bins=5500, num_factors=5))\n",
    "models.append(DeepFM(num_feats=len(feats), num_bins=5500, num_factors=5, dnn_depth=2, dnn_width=5))\n",
    "\n",
    "# NOVEL PROPOSAL\n",
    "models.append(AFN(num_feats=len(feats), num_bins=5500, num_factors=5, hidden_size=110, hidden_size_2=110, nlayers=2))\n",
    "\n",
    "for i in range(19):\n",
    "    cur = f\"{data_string}/train_{i}.csv\"\n",
    "    print(f\"Reading {cur}\")\n",
    "    cur_df = pd.read_csv(cur)\n",
    "    for m in models:\n",
    "        m.fit(cur_df[feats].values, cur_df[\"click\"].values, epochs=1, batch_size=BATCH_SIZE)\n",
    "    \n",
    "    del cur_df\n",
    "    gc.collect()"
   ]
  },
  {
   "cell_type": "code",
   "execution_count": 26,
   "metadata": {},
   "outputs": [],
   "source": [
    "test_dfs = []\n",
    "\n",
    "for i in range(5):\n",
    "    test_dfs.append(pd.read_csv(f\"{data_string}/test_{i}.csv\"))\n",
    "    test_df = pd.concat(test_dfs, ignore_index=True)\n",
    "    test_x = test_df[feats].values\n",
    "    test_y = test_df[\"click\"].values\n",
    "    del test_df\n",
    "    gc.collect()"
   ]
  },
  {
   "cell_type": "code",
   "execution_count": null,
   "metadata": {},
   "outputs": [],
   "source": [
    "for m in models:\n",
    "    cur_result = m.evaluate(test_x, test_y, batch_size=BATCH_SIZE)\n",
    "    print(cur_result)"
   ]
  },
  {
   "cell_type": "code",
   "execution_count": null,
   "metadata": {},
   "outputs": [],
   "source": [
    "for m in models:\n",
    "    print(m.summary())"
   ]
  },
  {
   "cell_type": "code",
   "execution_count": null,
   "metadata": {},
   "outputs": [],
   "source": []
  }
 ],
 "metadata": {
  "kernelspec": {
   "display_name": "Python [conda env:pytf2] *",
   "language": "python",
   "name": "conda-env-pytf2-py"
  },
  "language_info": {
   "codemirror_mode": {
    "name": "ipython",
    "version": 3
   },
   "file_extension": ".py",
   "mimetype": "text/x-python",
   "name": "python",
   "nbconvert_exporter": "python",
   "pygments_lexer": "ipython3",
   "version": "3.8.5"
  }
 },
 "nbformat": 4,
 "nbformat_minor": 4
}
